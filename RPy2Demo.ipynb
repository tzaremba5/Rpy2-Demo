{
  "nbformat": 4,
  "nbformat_minor": 0,
  "metadata": {
    "colab": {
      "name": "RPy2Demo.ipynb",
      "provenance": []
    },
    "kernelspec": {
      "name": "python3",
      "display_name": "Python 3"
    },
    "language_info": {
      "name": "python"
    }
  },
  "cells": [
    {
      "cell_type": "code",
      "metadata": {
        "id": "iSfSv-hNVkze"
      },
      "source": [
        "%load_ext rpy2.ipython\n",
        "import numpy as np"
      ],
      "execution_count": null,
      "outputs": []
    },
    {
      "cell_type": "code",
      "metadata": {
        "colab": {
          "base_uri": "https://localhost:8080/"
        },
        "id": "lAzXg5Q_ZtFz",
        "outputId": "3510500a-3c66-45d3-fd16-ca4410a07425"
      },
      "source": [
        "list = []\n",
        "list = range(1800, 360000, 3600)\n",
        "\n",
        "for x in list:\n",
        "  print(x)"
      ],
      "execution_count": null,
      "outputs": [
        {
          "output_type": "stream",
          "name": "stdout",
          "text": [
            "1800\n",
            "5400\n",
            "9000\n",
            "12600\n",
            "16200\n",
            "19800\n",
            "23400\n",
            "27000\n",
            "30600\n",
            "34200\n",
            "37800\n",
            "41400\n",
            "45000\n",
            "48600\n",
            "52200\n",
            "55800\n",
            "59400\n",
            "63000\n",
            "66600\n",
            "70200\n",
            "73800\n",
            "77400\n",
            "81000\n",
            "84600\n",
            "88200\n",
            "91800\n",
            "95400\n",
            "99000\n",
            "102600\n",
            "106200\n",
            "109800\n",
            "113400\n",
            "117000\n",
            "120600\n",
            "124200\n",
            "127800\n",
            "131400\n",
            "135000\n",
            "138600\n",
            "142200\n",
            "145800\n",
            "149400\n",
            "153000\n",
            "156600\n",
            "160200\n",
            "163800\n",
            "167400\n",
            "171000\n",
            "174600\n",
            "178200\n",
            "181800\n",
            "185400\n",
            "189000\n",
            "192600\n",
            "196200\n",
            "199800\n",
            "203400\n",
            "207000\n",
            "210600\n",
            "214200\n",
            "217800\n",
            "221400\n",
            "225000\n",
            "228600\n",
            "232200\n",
            "235800\n",
            "239400\n",
            "243000\n",
            "246600\n",
            "250200\n",
            "253800\n",
            "257400\n",
            "261000\n",
            "264600\n",
            "268200\n",
            "271800\n",
            "275400\n",
            "279000\n",
            "282600\n",
            "286200\n",
            "289800\n",
            "293400\n",
            "297000\n",
            "300600\n",
            "304200\n",
            "307800\n",
            "311400\n",
            "315000\n",
            "318600\n",
            "322200\n",
            "325800\n",
            "329400\n",
            "333000\n",
            "336600\n",
            "340200\n",
            "343800\n",
            "347400\n",
            "351000\n",
            "354600\n",
            "358200\n"
          ]
        }
      ]
    },
    {
      "cell_type": "code",
      "metadata": {
        "id": "28YXccdZVnuD"
      },
      "source": [
        "%%R #Turns the whole box into R code\n",
        "myvec <- c(1, 2, 5)\n",
        "\n",
        "print(qnorm(.05))\n",
        "print(myvec)"
      ],
      "execution_count": null,
      "outputs": []
    },
    {
      "cell_type": "code",
      "metadata": {
        "colab": {
          "base_uri": "https://localhost:8080/"
        },
        "id": "qcZXg84Olybe",
        "outputId": "572ac972-8854-4886-ae33-d47e766c726f"
      },
      "source": [
        "# The box after goes back to being python\n",
        "for i in \"teddy\":\n",
        "  print(i)"
      ],
      "execution_count": null,
      "outputs": [
        {
          "output_type": "stream",
          "name": "stdout",
          "text": [
            "t\n",
            "e\n",
            "d\n",
            "d\n",
            "y\n"
          ]
        }
      ]
    },
    {
      "cell_type": "code",
      "metadata": {
        "colab": {
          "base_uri": "https://localhost:8080/"
        },
        "id": "qDyh6yLCeyVH",
        "outputId": "4ecadd91-8ede-4b12-e6ec-6764c6e14367"
      },
      "source": [
        "x = %R c(1, 2) # Assign a python variable to a variable generated in R type %R before the R code\n",
        "\n",
        "print(type(x)) # everything from R gets converted to a python numpy array\n",
        "\n",
        "print(x[0])\n",
        "print(x[1])\n",
        "\n",
        "myArr = np.array([])\n",
        "myArr = %R c(3, 5)\n",
        "for x in myArr:\n",
        "  print(x)\n",
        "\n",
        "myNum = %R qnorm(.05)\n",
        "print(myNum)\n",
        "print(myNum[0])"
      ],
      "execution_count": null,
      "outputs": [
        {
          "output_type": "stream",
          "name": "stdout",
          "text": [
            "<class 'numpy.ndarray'>\n",
            "1.0\n",
            "2.0\n",
            "3.0\n",
            "5.0\n",
            "[-1.64485363]\n",
            "-1.6448536269514726\n"
          ]
        }
      ]
    },
    {
      "cell_type": "code",
      "metadata": {
        "colab": {
          "base_uri": "https://localhost:8080/",
          "height": 497
        },
        "id": "BApZMj51jbPi",
        "outputId": "66800e45-8764-4fac-ebd8-ca74a9f82785"
      },
      "source": [
        "# Pushing python variable to R\n",
        "\n",
        "lamb = 8\n",
        "\n",
        "# use the push keyword to push python variables to R\n",
        "%Rpush lamb \n",
        "%R success <- 0:20 \n",
        "%R plot(success, dpois(success, lambda = lamb), type='h')"
      ],
      "execution_count": null,
      "outputs": [
        {
          "output_type": "display_data",
          "data": {
            "image/png": "[encoded data removed]"
          },
          "metadata": {}
        }
      ]
    }
  ]
}